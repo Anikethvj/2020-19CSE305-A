{
 "cells": [
  {
   "cell_type": "code",
   "execution_count": 1,
   "metadata": {},
   "outputs": [],
   "source": [
    "import pandas as pd\n",
    "from sklearn import svm\n",
    "import time\n",
    "from sklearn.model_selection import train_test_split\n",
    "from sklearn import svm\n",
    "import numpy as np\n",
    "from sklearn.neural_network import MLPClassifier\n",
    "from sklearn.neighbors import KNeighborsClassifier"
   ]
  },
  {
   "cell_type": "code",
   "execution_count": 2,
   "metadata": {},
   "outputs": [
    {
     "data": {
      "text/html": [
       "<div>\n",
       "<style scoped>\n",
       "    .dataframe tbody tr th:only-of-type {\n",
       "        vertical-align: middle;\n",
       "    }\n",
       "\n",
       "    .dataframe tbody tr th {\n",
       "        vertical-align: top;\n",
       "    }\n",
       "\n",
       "    .dataframe thead th {\n",
       "        text-align: right;\n",
       "    }\n",
       "</style>\n",
       "<table border=\"1\" class=\"dataframe\">\n",
       "  <thead>\n",
       "    <tr style=\"text-align: right;\">\n",
       "      <th></th>\n",
       "      <th>BMI</th>\n",
       "      <th>4. Age (in years)</th>\n",
       "      <th>5. Height (in cms)</th>\n",
       "      <th>6. Weight (in kgs)</th>\n",
       "      <th>Financial insecurity faced due to lockdown</th>\n",
       "      <th>Is not being able to hangout and meet your friends and classmates in any way affecting your mental health?</th>\n",
       "      <th>quarantine impact</th>\n",
       "      <th>When did you have more free time?</th>\n",
       "      <th>How many days in a week do you practice meditation?</th>\n",
       "      <th>19. Out of the following, choose 5 tools which you use most often these days.</th>\n",
       "      <th>happy with online classes</th>\n",
       "      <th>How would you rate your mental well being ?</th>\n",
       "      <th>mentalh_level</th>\n",
       "      <th>to</th>\n",
       "    </tr>\n",
       "  </thead>\n",
       "  <tbody>\n",
       "    <tr>\n",
       "      <th>0</th>\n",
       "      <td>27.887617</td>\n",
       "      <td>45</td>\n",
       "      <td>155.0</td>\n",
       "      <td>67.0</td>\n",
       "      <td>6</td>\n",
       "      <td>1</td>\n",
       "      <td>1</td>\n",
       "      <td>0</td>\n",
       "      <td>1</td>\n",
       "      <td>11</td>\n",
       "      <td>0</td>\n",
       "      <td>5</td>\n",
       "      <td>Bad</td>\n",
       "      <td>0.002789</td>\n",
       "    </tr>\n",
       "    <tr>\n",
       "      <th>1</th>\n",
       "      <td>26.609713</td>\n",
       "      <td>20</td>\n",
       "      <td>169.0</td>\n",
       "      <td>76.0</td>\n",
       "      <td>1</td>\n",
       "      <td>1</td>\n",
       "      <td>1</td>\n",
       "      <td>0</td>\n",
       "      <td>0</td>\n",
       "      <td>11</td>\n",
       "      <td>1</td>\n",
       "      <td>10</td>\n",
       "      <td>Good</td>\n",
       "      <td>0.002661</td>\n",
       "    </tr>\n",
       "    <tr>\n",
       "      <th>2</th>\n",
       "      <td>20.613131</td>\n",
       "      <td>23</td>\n",
       "      <td>151.0</td>\n",
       "      <td>47.0</td>\n",
       "      <td>3</td>\n",
       "      <td>1</td>\n",
       "      <td>1</td>\n",
       "      <td>2</td>\n",
       "      <td>0</td>\n",
       "      <td>11</td>\n",
       "      <td>1</td>\n",
       "      <td>5</td>\n",
       "      <td>Bad</td>\n",
       "      <td>0.002061</td>\n",
       "    </tr>\n",
       "    <tr>\n",
       "      <th>3</th>\n",
       "      <td>21.224490</td>\n",
       "      <td>19</td>\n",
       "      <td>175.0</td>\n",
       "      <td>65.0</td>\n",
       "      <td>2</td>\n",
       "      <td>1</td>\n",
       "      <td>0</td>\n",
       "      <td>2</td>\n",
       "      <td>0</td>\n",
       "      <td>12</td>\n",
       "      <td>0</td>\n",
       "      <td>7</td>\n",
       "      <td>Good</td>\n",
       "      <td>0.002122</td>\n",
       "    </tr>\n",
       "    <tr>\n",
       "      <th>4</th>\n",
       "      <td>17.959184</td>\n",
       "      <td>20</td>\n",
       "      <td>175.0</td>\n",
       "      <td>55.0</td>\n",
       "      <td>8</td>\n",
       "      <td>1</td>\n",
       "      <td>0</td>\n",
       "      <td>0</td>\n",
       "      <td>0</td>\n",
       "      <td>17</td>\n",
       "      <td>0</td>\n",
       "      <td>4</td>\n",
       "      <td>Bad</td>\n",
       "      <td>0.001796</td>\n",
       "    </tr>\n",
       "  </tbody>\n",
       "</table>\n",
       "</div>"
      ],
      "text/plain": [
       "         BMI  4. Age (in years)  5. Height (in cms)  6. Weight (in kgs)  \\\n",
       "0  27.887617                 45               155.0                67.0   \n",
       "1  26.609713                 20               169.0                76.0   \n",
       "2  20.613131                 23               151.0                47.0   \n",
       "3  21.224490                 19               175.0                65.0   \n",
       "4  17.959184                 20               175.0                55.0   \n",
       "\n",
       "    Financial insecurity faced due to lockdown  \\\n",
       "0                                            6   \n",
       "1                                            1   \n",
       "2                                            3   \n",
       "3                                            2   \n",
       "4                                            8   \n",
       "\n",
       "   Is not being able to hangout and meet your friends and classmates in any way affecting your mental health?  \\\n",
       "0                                                  1                                                            \n",
       "1                                                  1                                                            \n",
       "2                                                  1                                                            \n",
       "3                                                  1                                                            \n",
       "4                                                  1                                                            \n",
       "\n",
       "   quarantine impact  When did you have more free time?  \\\n",
       "0                  1                                  0   \n",
       "1                  1                                  0   \n",
       "2                  1                                  2   \n",
       "3                  0                                  2   \n",
       "4                  0                                  0   \n",
       "\n",
       "    How many days in a week do you practice meditation?  \\\n",
       "0                                                  1      \n",
       "1                                                  0      \n",
       "2                                                  0      \n",
       "3                                                  0      \n",
       "4                                                  0      \n",
       "\n",
       "   19. Out of the following, choose 5 tools which you use most often these days.  \\\n",
       "0                                                 11                               \n",
       "1                                                 11                               \n",
       "2                                                 11                               \n",
       "3                                                 12                               \n",
       "4                                                 17                               \n",
       "\n",
       "   happy with online classes  How would you rate your mental well being ?  \\\n",
       "0                          0                                            5   \n",
       "1                          1                                           10   \n",
       "2                          1                                            5   \n",
       "3                          0                                            7   \n",
       "4                          0                                            4   \n",
       "\n",
       "  mentalh_level        to  \n",
       "0           Bad  0.002789  \n",
       "1          Good  0.002661  \n",
       "2           Bad  0.002061  \n",
       "3          Good  0.002122  \n",
       "4           Bad  0.001796  "
      ]
     },
     "execution_count": 2,
     "metadata": {},
     "output_type": "execute_result"
    }
   ],
   "source": [
    "dataframe = pd.read_csv('C:\\\\Users\\\\Hitesh\\\\Downloads\\\\lab3.csv',nrows = 100)\n",
    "dataframe.head()"
   ]
  },
  {
   "cell_type": "code",
   "execution_count": 95,
   "metadata": {},
   "outputs": [],
   "source": [
    "\n",
    "F_datafram=dataframe[['Is not being able to hangout and meet your friends and classmates in any way affecting your mental health?','quarantine impact','When did you have more free time?','happy with online classes',' How many days in a week do you practice meditation?']]\n",
    "X=np.asarray(F_datafram)\n",
    "y=np.asarray(dataframe['mentalh_level'])\n",
    "X_train, X_test,y_train,y_test=train_test_split(X,y,test_size=0.2,random_state=4)\n"
   ]
  },
  {
   "cell_type": "code",
   "execution_count": 97,
   "metadata": {},
   "outputs": [
    {
     "name": "stdout",
     "output_type": "stream",
     "text": [
      "It took :  0.00800323486328125  to get an score of :  0.75  using SVC\n"
     ]
    }
   ],
   "source": [
    "start=time.time()\n",
    "classifier=svm.SVC()\n",
    "classifier.fit(X_train,y_train)\n",
    "stop=time.time()\n",
    "print(\"It took : \",stop-start,\" to get an score of : \",classifier.score(X_test,y_test),\" using SVC\")"
   ]
  },
  {
   "cell_type": "code",
   "execution_count": 98,
   "metadata": {},
   "outputs": [
    {
     "data": {
      "text/plain": [
       "array([[1., 0., 0., 0., 0.],\n",
       "       [1., 1., 2., 1., 0.],\n",
       "       [1., 0., 2., 0., 0.],\n",
       "       [1., 0., 0., 0., 0.],\n",
       "       [1., 1., 2., 0., 0.],\n",
       "       [1., 0., 0., 0., 0.],\n",
       "       [0., 0., 1., 0., 0.],\n",
       "       [1., 0., 1., 0., 0.],\n",
       "       [1., 0., 1., 0., 0.],\n",
       "       [1., 0., 0., 0., 0.],\n",
       "       [1., 1., 0., 0., 0.],\n",
       "       [1., 0., 2., 0., 3.],\n",
       "       [0., 0., 0., 0., 0.],\n",
       "       [1., 2., 2., 1., 0.],\n",
       "       [1., 0., 1., 0., 1.],\n",
       "       [1., 1., 0., 0., 1.],\n",
       "       [1., 1., 2., 1., 0.],\n",
       "       [1., 0., 1., 0., 0.],\n",
       "       [1., 2., 0., 1., 0.],\n",
       "       [1., 1., 0., 0., 0.],\n",
       "       [0., 1., 0., 0., 1.],\n",
       "       [1., 0., 0., 0., 0.],\n",
       "       [1., 0., 0., 0., 7.],\n",
       "       [1., 0., 0., 0., 0.],\n",
       "       [1., 0., 0., 0., 0.],\n",
       "       [1., 1., 2., 1., 0.],\n",
       "       [1., 0., 0., 1., 0.],\n",
       "       [0., 1., 1., 0., 0.],\n",
       "       [1., 0., 2., 0., 0.],\n",
       "       [1., 0., 2., 0., 3.],\n",
       "       [0., 2., 2., 1., 0.],\n",
       "       [1., 0., 0., 0., 3.],\n",
       "       [1., 1., 1., 1., 0.],\n",
       "       [1., 0., 2., 0., 0.],\n",
       "       [0., 2., 2., 1., 7.],\n",
       "       [1., 1., 0., 0., 0.],\n",
       "       [1., 0., 0., 0., 0.],\n",
       "       [0., 2., 1., 1., 7.],\n",
       "       [1., 0., 2., 0., 0.],\n",
       "       [1., 1., 0., 0., 0.],\n",
       "       [1., 0., 2., 0., 4.],\n",
       "       [1., 0., 1., 1., 0.],\n",
       "       [1., 1., 1., 0., 1.],\n",
       "       [1., 0., 2., 0., 0.],\n",
       "       [1., 0., 2., 0., 2.],\n",
       "       [1., 1., 2., 0., 0.],\n",
       "       [1., 0., 1., 0., 0.],\n",
       "       [1., 0., 2., 1., 5.],\n",
       "       [0., 1., 0., 0., 0.],\n",
       "       [1., 1., 0., 1., 0.],\n",
       "       [1., 1., 0., 0., 2.]])"
      ]
     },
     "execution_count": 98,
     "metadata": {},
     "output_type": "execute_result"
    }
   ],
   "source": [
    "classifier.support_vectors_"
   ]
  },
  {
   "cell_type": "code",
   "execution_count": 99,
   "metadata": {},
   "outputs": [
    {
     "data": {
      "text/plain": [
       "0.75"
      ]
     },
     "execution_count": 99,
     "metadata": {},
     "output_type": "execute_result"
    }
   ],
   "source": [
    "classifier=svm.SVC(kernel='linear',gamma='auto',C=2)\n",
    "classifier.fit(X_train,y_train)\n",
    "classifier.score(X_test,y_test)"
   ]
  },
  {
   "cell_type": "code",
   "execution_count": 100,
   "metadata": {},
   "outputs": [
    {
     "name": "stdout",
     "output_type": "stream",
     "text": [
      "It took :  0.1289832592010498  to get an score of :  0.65  using MLP\n"
     ]
    },
    {
     "name": "stderr",
     "output_type": "stream",
     "text": [
      "c:\\Users\\Hitesh\\AppData\\Local\\Programs\\Python\\Python310\\lib\\site-packages\\sklearn\\neural_network\\_multilayer_perceptron.py:702: ConvergenceWarning: Stochastic Optimizer: Maximum iterations (200) reached and the optimization hasn't converged yet.\n",
      "  warnings.warn(\n"
     ]
    }
   ],
   "source": [
    "start=time.time()\n",
    "MLP = MLPClassifier()\n",
    "MLP.fit(X_train,y_train)\n",
    "stop=time.time()\n",
    "print(\"It took : \",stop-start,\" to get an score of : \",MLP.score(X_test,y_test),\" using MLP\")"
   ]
  },
  {
   "cell_type": "code",
   "execution_count": 103,
   "metadata": {},
   "outputs": [
    {
     "name": "stdout",
     "output_type": "stream",
     "text": [
      "It took :  0.008005142211914062  to get an score of :  0.7  using neigh\n"
     ]
    }
   ],
   "source": [
    "start = time.time()\n",
    "neigh = KNeighborsClassifier(n_neighbors=1)\n",
    "neigh.fit(X,y)\n",
    "stop = time.time()\n",
    "print(\"It took : \",stop-start,\" to get an score of : \",neigh.score(X_test,y_test),\" using neigh\")"
   ]
  }
 ],
 "metadata": {
  "kernelspec": {
   "display_name": "Python 3.9.7 64-bit",
   "language": "python",
   "name": "python3"
  },
  "language_info": {
   "codemirror_mode": {
    "name": "ipython",
    "version": 3
   },
   "file_extension": ".py",
   "mimetype": "text/x-python",
   "name": "python",
   "nbconvert_exporter": "python",
   "pygments_lexer": "ipython3",
   "version": "3.9.7"
  },
  "orig_nbformat": 4,
  "vscode": {
   "interpreter": {
    "hash": "bf9ab843c2c44a0abbe96a3f5fa8fc8f7b5aa1503133f196762388041b9614c2"
   }
  }
 },
 "nbformat": 4,
 "nbformat_minor": 2
}
